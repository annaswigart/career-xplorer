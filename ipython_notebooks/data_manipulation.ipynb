{
 "metadata": {
  "name": ""
 },
 "nbformat": 3,
 "nbformat_minor": 0,
 "worksheets": [
  {
   "cells": [
    {
     "cell_type": "heading",
     "level": 1,
     "metadata": {},
     "source": [
      "Set up"
     ]
    },
    {
     "cell_type": "code",
     "collapsed": false,
     "input": [
      "# Load needed modules and functions\n",
      "import matplotlib.pyplot as plt\n",
      "%matplotlib inline\n",
      "\n",
      "import numpy as np\n",
      "\n",
      "from pylab import figure, show\n",
      "\n",
      "import pandas as pd\n",
      "from pandas import DataFrame, Series"
     ],
     "language": "python",
     "metadata": {},
     "outputs": [],
     "prompt_number": 2
    },
    {
     "cell_type": "code",
     "collapsed": false,
     "input": [
      "#set up path to the data files\n",
      "import os\n",
      "data_folder = os.path.join(os.pardir, \"data\")"
     ],
     "language": "python",
     "metadata": {},
     "outputs": [],
     "prompt_number": 3
    },
    {
     "cell_type": "code",
     "collapsed": false,
     "input": [
      "import glob \n",
      "file_names = glob.glob(data_folder + \"/*\")"
     ],
     "language": "python",
     "metadata": {},
     "outputs": [],
     "prompt_number": 4
    },
    {
     "cell_type": "code",
     "collapsed": false,
     "input": [
      "import re\n",
      "p = re.compile('data\\\\\\(.*).txt')\n",
      "name_list = []\n",
      "for name in file_names:\n",
      "    frame_name = p.findall(name)[0]\n",
      "    frame_name = frame_name.lower().replace(\" \",\"_\")\n",
      "    frame_name = frame_name.replace(\",\",\"\")\n",
      "    name_list.append(frame_name)\n",
      "    frame = pd.read_table(name, sep= '\\t')\n",
      "    #reformat column names\n",
      "    columns = frame.columns\n",
      "    columns = [x.lower().replace(\"*\",\"\").replace(\"-\",\"_\").replace(\" \",\"_\") for x in columns]\n",
      "    frame.columns = columns\n",
      "    #create a variable named the frame_name\n",
      "    vars()[frame_name] = frame"
     ],
     "language": "python",
     "metadata": {},
     "outputs": [
      {
       "output_type": "stream",
       "stream": "stderr",
       "text": [
        "c:\\Users\\Tiffany\\Anaconda\\lib\\site-packages\\pandas\\io\\parsers.py:1070: DtypeWarning: Columns (6) have mixed types. Specify dtype option on import or set low_memory=False.\n",
        "  data = self._reader.read(nrows)\n"
       ]
      }
     ],
     "prompt_number": 5
    },
    {
     "cell_type": "heading",
     "level": 1,
     "metadata": {},
     "source": [
      "Functions"
     ]
    },
    {
     "cell_type": "code",
     "collapsed": false,
     "input": [
      "#function that calculates the number of features available in a dataframe (the # rows divided by # of jobs)\n",
      "def feature(dataframe):\n",
      "    return len(dataframe)/len(dataframe.onet_soc_code.unique())"
     ],
     "language": "python",
     "metadata": {},
     "outputs": [],
     "prompt_number": 9
    },
    {
     "cell_type": "heading",
     "level": 1,
     "metadata": {},
     "source": [
      "Data Filtering"
     ]
    },
    {
     "cell_type": "heading",
     "level": 2,
     "metadata": {},
     "source": [
      "Abilities "
     ]
    },
    {
     "cell_type": "code",
     "collapsed": false,
     "input": [
      "#In abilities, we only want to keep the rows where scale_id == 'IM'\n",
      "abilities_final = abilities[abilities.scale_id == 'IM']"
     ],
     "language": "python",
     "metadata": {},
     "outputs": [],
     "prompt_number": 6
    },
    {
     "cell_type": "code",
     "collapsed": false,
     "input": [
      "len(abilities_final)"
     ],
     "language": "python",
     "metadata": {},
     "outputs": [
      {
       "metadata": {},
       "output_type": "pyout",
       "prompt_number": 12,
       "text": [
        "47996"
       ]
      }
     ],
     "prompt_number": 12
    },
    {
     "cell_type": "code",
     "collapsed": false,
     "input": [
      "feature(abilities_final)"
     ],
     "language": "python",
     "metadata": {},
     "outputs": [
      {
       "metadata": {},
       "output_type": "pyout",
       "prompt_number": 13,
       "text": [
        "52"
       ]
      }
     ],
     "prompt_number": 13
    },
    {
     "cell_type": "heading",
     "level": 2,
     "metadata": {},
     "source": [
      "Knowledge"
     ]
    },
    {
     "cell_type": "code",
     "collapsed": false,
     "input": [
      "#In knowledge, we only want to keep the rows where scale_id == 'IM'\n",
      "knowledge_final = knowledge[knowledge.scale_id == 'IM']"
     ],
     "language": "python",
     "metadata": {},
     "outputs": [],
     "prompt_number": 14
    },
    {
     "cell_type": "code",
     "collapsed": false,
     "input": [
      "len(knowledge_final)"
     ],
     "language": "python",
     "metadata": {},
     "outputs": [
      {
       "metadata": {},
       "output_type": "pyout",
       "prompt_number": 15,
       "text": [
        "30459"
       ]
      }
     ],
     "prompt_number": 15
    },
    {
     "cell_type": "code",
     "collapsed": false,
     "input": [
      "feature(knowledge_final)"
     ],
     "language": "python",
     "metadata": {},
     "outputs": [
      {
       "metadata": {},
       "output_type": "pyout",
       "prompt_number": 16,
       "text": [
        "33"
       ]
      }
     ],
     "prompt_number": 16
    },
    {
     "cell_type": "heading",
     "level": 2,
     "metadata": {},
     "source": [
      "Interests"
     ]
    },
    {
     "cell_type": "code",
     "collapsed": false,
     "input": [
      "#In interests, we only want to keep rows where scale_id == 'OI'\n",
      "interests_final = interests[interests.scale_id == 'OI']"
     ],
     "language": "python",
     "metadata": {},
     "outputs": [],
     "prompt_number": 17
    },
    {
     "cell_type": "code",
     "collapsed": false,
     "input": [
      "len(interests_final)"
     ],
     "language": "python",
     "metadata": {},
     "outputs": [
      {
       "metadata": {},
       "output_type": "pyout",
       "prompt_number": 18,
       "text": [
        "5844"
       ]
      }
     ],
     "prompt_number": 18
    },
    {
     "cell_type": "code",
     "collapsed": false,
     "input": [
      "feature(interests_final)"
     ],
     "language": "python",
     "metadata": {},
     "outputs": [
      {
       "metadata": {},
       "output_type": "pyout",
       "prompt_number": 19,
       "text": [
        "6"
       ]
      }
     ],
     "prompt_number": 19
    },
    {
     "cell_type": "code",
     "collapsed": false,
     "input": [
      "interests_final"
     ],
     "language": "python",
     "metadata": {},
     "outputs": [
      {
       "html": [
        "<div style=\"max-height:1000px;max-width:1500px;overflow:auto;\">\n",
        "<table border=\"1\" class=\"dataframe\">\n",
        "  <thead>\n",
        "    <tr style=\"text-align: right;\">\n",
        "      <th></th>\n",
        "      <th>onet_soc_code</th>\n",
        "      <th>element_id</th>\n",
        "      <th>element_name</th>\n",
        "      <th>scale_id</th>\n",
        "      <th>data_value</th>\n",
        "      <th>date</th>\n",
        "      <th>domain_source</th>\n",
        "    </tr>\n",
        "  </thead>\n",
        "  <tbody>\n",
        "    <tr>\n",
        "      <th>0 </th>\n",
        "      <td> 11-1011.00</td>\n",
        "      <td> 1.B.1.a</td>\n",
        "      <td>     Realistic</td>\n",
        "      <td> OI</td>\n",
        "      <td> 1.33</td>\n",
        "      <td> 06/2008</td>\n",
        "      <td> Analyst</td>\n",
        "    </tr>\n",
        "    <tr>\n",
        "      <th>1 </th>\n",
        "      <td> 11-1011.00</td>\n",
        "      <td> 1.B.1.b</td>\n",
        "      <td> Investigative</td>\n",
        "      <td> OI</td>\n",
        "      <td> 2.00</td>\n",
        "      <td> 06/2008</td>\n",
        "      <td> Analyst</td>\n",
        "    </tr>\n",
        "    <tr>\n",
        "      <th>2 </th>\n",
        "      <td> 11-1011.00</td>\n",
        "      <td> 1.B.1.c</td>\n",
        "      <td>      Artistic</td>\n",
        "      <td> OI</td>\n",
        "      <td> 2.67</td>\n",
        "      <td> 06/2008</td>\n",
        "      <td> Analyst</td>\n",
        "    </tr>\n",
        "    <tr>\n",
        "      <th>3 </th>\n",
        "      <td> 11-1011.00</td>\n",
        "      <td> 1.B.1.d</td>\n",
        "      <td>        Social</td>\n",
        "      <td> OI</td>\n",
        "      <td> 3.67</td>\n",
        "      <td> 06/2008</td>\n",
        "      <td> Analyst</td>\n",
        "    </tr>\n",
        "    <tr>\n",
        "      <th>4 </th>\n",
        "      <td> 11-1011.00</td>\n",
        "      <td> 1.B.1.e</td>\n",
        "      <td>  Enterprising</td>\n",
        "      <td> OI</td>\n",
        "      <td> 7.00</td>\n",
        "      <td> 06/2008</td>\n",
        "      <td> Analyst</td>\n",
        "    </tr>\n",
        "    <tr>\n",
        "      <th>5 </th>\n",
        "      <td> 11-1011.00</td>\n",
        "      <td> 1.B.1.f</td>\n",
        "      <td>  Conventional</td>\n",
        "      <td> OI</td>\n",
        "      <td> 5.33</td>\n",
        "      <td> 06/2008</td>\n",
        "      <td> Analyst</td>\n",
        "    </tr>\n",
        "    <tr>\n",
        "      <th>9 </th>\n",
        "      <td> 11-1011.03</td>\n",
        "      <td> 1.B.1.a</td>\n",
        "      <td>     Realistic</td>\n",
        "      <td> OI</td>\n",
        "      <td> 1.00</td>\n",
        "      <td> 07/2013</td>\n",
        "      <td> Analyst</td>\n",
        "    </tr>\n",
        "    <tr>\n",
        "      <th>10</th>\n",
        "      <td> 11-1011.03</td>\n",
        "      <td> 1.B.1.b</td>\n",
        "      <td> Investigative</td>\n",
        "      <td> OI</td>\n",
        "      <td> 4.33</td>\n",
        "      <td> 07/2013</td>\n",
        "      <td> Analyst</td>\n",
        "    </tr>\n",
        "    <tr>\n",
        "      <th>11</th>\n",
        "      <td> 11-1011.03</td>\n",
        "      <td> 1.B.1.c</td>\n",
        "      <td>      Artistic</td>\n",
        "      <td> OI</td>\n",
        "      <td> 2.67</td>\n",
        "      <td> 07/2013</td>\n",
        "      <td> Analyst</td>\n",
        "    </tr>\n",
        "    <tr>\n",
        "      <th>12</th>\n",
        "      <td> 11-1011.03</td>\n",
        "      <td> 1.B.1.d</td>\n",
        "      <td>        Social</td>\n",
        "      <td> OI</td>\n",
        "      <td> 2.33</td>\n",
        "      <td> 07/2013</td>\n",
        "      <td> Analyst</td>\n",
        "    </tr>\n",
        "    <tr>\n",
        "      <th>13</th>\n",
        "      <td> 11-1011.03</td>\n",
        "      <td> 1.B.1.e</td>\n",
        "      <td>  Enterprising</td>\n",
        "      <td> OI</td>\n",
        "      <td> 7.00</td>\n",
        "      <td> 07/2013</td>\n",
        "      <td> Analyst</td>\n",
        "    </tr>\n",
        "    <tr>\n",
        "      <th>14</th>\n",
        "      <td> 11-1011.03</td>\n",
        "      <td> 1.B.1.f</td>\n",
        "      <td>  Conventional</td>\n",
        "      <td> OI</td>\n",
        "      <td> 4.33</td>\n",
        "      <td> 07/2013</td>\n",
        "      <td> Analyst</td>\n",
        "    </tr>\n",
        "    <tr>\n",
        "      <th>18</th>\n",
        "      <td> 11-1021.00</td>\n",
        "      <td> 1.B.1.a</td>\n",
        "      <td>     Realistic</td>\n",
        "      <td> OI</td>\n",
        "      <td> 1.33</td>\n",
        "      <td> 06/2008</td>\n",
        "      <td> Analyst</td>\n",
        "    </tr>\n",
        "    <tr>\n",
        "      <th>19</th>\n",
        "      <td> 11-1021.00</td>\n",
        "      <td> 1.B.1.b</td>\n",
        "      <td> Investigative</td>\n",
        "      <td> OI</td>\n",
        "      <td> 1.33</td>\n",
        "      <td> 06/2008</td>\n",
        "      <td> Analyst</td>\n",
        "    </tr>\n",
        "    <tr>\n",
        "      <th>20</th>\n",
        "      <td> 11-1021.00</td>\n",
        "      <td> 1.B.1.c</td>\n",
        "      <td>      Artistic</td>\n",
        "      <td> OI</td>\n",
        "      <td> 1.00</td>\n",
        "      <td> 06/2008</td>\n",
        "      <td> Analyst</td>\n",
        "    </tr>\n",
        "    <tr>\n",
        "      <th>21</th>\n",
        "      <td> 11-1021.00</td>\n",
        "      <td> 1.B.1.d</td>\n",
        "      <td>        Social</td>\n",
        "      <td> OI</td>\n",
        "      <td> 3.33</td>\n",
        "      <td> 06/2008</td>\n",
        "      <td> Analyst</td>\n",
        "    </tr>\n",
        "    <tr>\n",
        "      <th>22</th>\n",
        "      <td> 11-1021.00</td>\n",
        "      <td> 1.B.1.e</td>\n",
        "      <td>  Enterprising</td>\n",
        "      <td> OI</td>\n",
        "      <td> 7.00</td>\n",
        "      <td> 06/2008</td>\n",
        "      <td> Analyst</td>\n",
        "    </tr>\n",
        "    <tr>\n",
        "      <th>23</th>\n",
        "      <td> 11-1021.00</td>\n",
        "      <td> 1.B.1.f</td>\n",
        "      <td>  Conventional</td>\n",
        "      <td> OI</td>\n",
        "      <td> 3.67</td>\n",
        "      <td> 06/2008</td>\n",
        "      <td> Analyst</td>\n",
        "    </tr>\n",
        "    <tr>\n",
        "      <th>27</th>\n",
        "      <td> 11-1031.00</td>\n",
        "      <td> 1.B.1.a</td>\n",
        "      <td>     Realistic</td>\n",
        "      <td> OI</td>\n",
        "      <td> 1.00</td>\n",
        "      <td> 06/2008</td>\n",
        "      <td> Analyst</td>\n",
        "    </tr>\n",
        "    <tr>\n",
        "      <th>28</th>\n",
        "      <td> 11-1031.00</td>\n",
        "      <td> 1.B.1.b</td>\n",
        "      <td> Investigative</td>\n",
        "      <td> OI</td>\n",
        "      <td> 3.67</td>\n",
        "      <td> 06/2008</td>\n",
        "      <td> Analyst</td>\n",
        "    </tr>\n",
        "    <tr>\n",
        "      <th>29</th>\n",
        "      <td> 11-1031.00</td>\n",
        "      <td> 1.B.1.c</td>\n",
        "      <td>      Artistic</td>\n",
        "      <td> OI</td>\n",
        "      <td> 3.67</td>\n",
        "      <td> 06/2008</td>\n",
        "      <td> Analyst</td>\n",
        "    </tr>\n",
        "    <tr>\n",
        "      <th>30</th>\n",
        "      <td> 11-1031.00</td>\n",
        "      <td> 1.B.1.d</td>\n",
        "      <td>        Social</td>\n",
        "      <td> OI</td>\n",
        "      <td> 4.67</td>\n",
        "      <td> 06/2008</td>\n",
        "      <td> Analyst</td>\n",
        "    </tr>\n",
        "    <tr>\n",
        "      <th>31</th>\n",
        "      <td> 11-1031.00</td>\n",
        "      <td> 1.B.1.e</td>\n",
        "      <td>  Enterprising</td>\n",
        "      <td> OI</td>\n",
        "      <td> 7.00</td>\n",
        "      <td> 06/2008</td>\n",
        "      <td> Analyst</td>\n",
        "    </tr>\n",
        "    <tr>\n",
        "      <th>32</th>\n",
        "      <td> 11-1031.00</td>\n",
        "      <td> 1.B.1.f</td>\n",
        "      <td>  Conventional</td>\n",
        "      <td> OI</td>\n",
        "      <td> 3.00</td>\n",
        "      <td> 06/2008</td>\n",
        "      <td> Analyst</td>\n",
        "    </tr>\n",
        "    <tr>\n",
        "      <th>36</th>\n",
        "      <td> 11-2011.00</td>\n",
        "      <td> 1.B.1.a</td>\n",
        "      <td>     Realistic</td>\n",
        "      <td> OI</td>\n",
        "      <td> 1.67</td>\n",
        "      <td> 06/2008</td>\n",
        "      <td> Analyst</td>\n",
        "    </tr>\n",
        "    <tr>\n",
        "      <th>37</th>\n",
        "      <td> 11-2011.00</td>\n",
        "      <td> 1.B.1.b</td>\n",
        "      <td> Investigative</td>\n",
        "      <td> OI</td>\n",
        "      <td> 2.00</td>\n",
        "      <td> 06/2008</td>\n",
        "      <td> Analyst</td>\n",
        "    </tr>\n",
        "    <tr>\n",
        "      <th>38</th>\n",
        "      <td> 11-2011.00</td>\n",
        "      <td> 1.B.1.c</td>\n",
        "      <td>      Artistic</td>\n",
        "      <td> OI</td>\n",
        "      <td> 5.33</td>\n",
        "      <td> 06/2008</td>\n",
        "      <td> Analyst</td>\n",
        "    </tr>\n",
        "    <tr>\n",
        "      <th>39</th>\n",
        "      <td> 11-2011.00</td>\n",
        "      <td> 1.B.1.d</td>\n",
        "      <td>        Social</td>\n",
        "      <td> OI</td>\n",
        "      <td> 2.33</td>\n",
        "      <td> 06/2008</td>\n",
        "      <td> Analyst</td>\n",
        "    </tr>\n",
        "    <tr>\n",
        "      <th>40</th>\n",
        "      <td> 11-2011.00</td>\n",
        "      <td> 1.B.1.e</td>\n",
        "      <td>  Enterprising</td>\n",
        "      <td> OI</td>\n",
        "      <td> 7.00</td>\n",
        "      <td> 06/2008</td>\n",
        "      <td> Analyst</td>\n",
        "    </tr>\n",
        "    <tr>\n",
        "      <th>41</th>\n",
        "      <td> 11-2011.00</td>\n",
        "      <td> 1.B.1.f</td>\n",
        "      <td>  Conventional</td>\n",
        "      <td> OI</td>\n",
        "      <td> 4.67</td>\n",
        "      <td> 06/2008</td>\n",
        "      <td> Analyst</td>\n",
        "    </tr>\n",
        "    <tr>\n",
        "      <th>45</th>\n",
        "      <td> 11-2011.01</td>\n",
        "      <td> 1.B.1.a</td>\n",
        "      <td>     Realistic</td>\n",
        "      <td> OI</td>\n",
        "      <td> 1.00</td>\n",
        "      <td> 07/2013</td>\n",
        "      <td> Analyst</td>\n",
        "    </tr>\n",
        "    <tr>\n",
        "      <th>46</th>\n",
        "      <td> 11-2011.01</td>\n",
        "      <td> 1.B.1.b</td>\n",
        "      <td> Investigative</td>\n",
        "      <td> OI</td>\n",
        "      <td> 5.33</td>\n",
        "      <td> 07/2013</td>\n",
        "      <td> Analyst</td>\n",
        "    </tr>\n",
        "    <tr>\n",
        "      <th>47</th>\n",
        "      <td> 11-2011.01</td>\n",
        "      <td> 1.B.1.c</td>\n",
        "      <td>      Artistic</td>\n",
        "      <td> OI</td>\n",
        "      <td> 4.33</td>\n",
        "      <td> 07/2013</td>\n",
        "      <td> Analyst</td>\n",
        "    </tr>\n",
        "    <tr>\n",
        "      <th>48</th>\n",
        "      <td> 11-2011.01</td>\n",
        "      <td> 1.B.1.d</td>\n",
        "      <td>        Social</td>\n",
        "      <td> OI</td>\n",
        "      <td> 2.33</td>\n",
        "      <td> 07/2013</td>\n",
        "      <td> Analyst</td>\n",
        "    </tr>\n",
        "    <tr>\n",
        "      <th>49</th>\n",
        "      <td> 11-2011.01</td>\n",
        "      <td> 1.B.1.e</td>\n",
        "      <td>  Enterprising</td>\n",
        "      <td> OI</td>\n",
        "      <td> 5.33</td>\n",
        "      <td> 07/2013</td>\n",
        "      <td> Analyst</td>\n",
        "    </tr>\n",
        "    <tr>\n",
        "      <th>50</th>\n",
        "      <td> 11-2011.01</td>\n",
        "      <td> 1.B.1.f</td>\n",
        "      <td>  Conventional</td>\n",
        "      <td> OI</td>\n",
        "      <td> 3.00</td>\n",
        "      <td> 07/2013</td>\n",
        "      <td> Analyst</td>\n",
        "    </tr>\n",
        "    <tr>\n",
        "      <th>54</th>\n",
        "      <td> 11-2021.00</td>\n",
        "      <td> 1.B.1.a</td>\n",
        "      <td>     Realistic</td>\n",
        "      <td> OI</td>\n",
        "      <td> 1.00</td>\n",
        "      <td> 06/2008</td>\n",
        "      <td> Analyst</td>\n",
        "    </tr>\n",
        "    <tr>\n",
        "      <th>55</th>\n",
        "      <td> 11-2021.00</td>\n",
        "      <td> 1.B.1.b</td>\n",
        "      <td> Investigative</td>\n",
        "      <td> OI</td>\n",
        "      <td> 2.33</td>\n",
        "      <td> 06/2008</td>\n",
        "      <td> Analyst</td>\n",
        "    </tr>\n",
        "    <tr>\n",
        "      <th>56</th>\n",
        "      <td> 11-2021.00</td>\n",
        "      <td> 1.B.1.c</td>\n",
        "      <td>      Artistic</td>\n",
        "      <td> OI</td>\n",
        "      <td> 3.67</td>\n",
        "      <td> 06/2008</td>\n",
        "      <td> Analyst</td>\n",
        "    </tr>\n",
        "    <tr>\n",
        "      <th>57</th>\n",
        "      <td> 11-2021.00</td>\n",
        "      <td> 1.B.1.d</td>\n",
        "      <td>        Social</td>\n",
        "      <td> OI</td>\n",
        "      <td> 2.67</td>\n",
        "      <td> 06/2008</td>\n",
        "      <td> Analyst</td>\n",
        "    </tr>\n",
        "    <tr>\n",
        "      <th>58</th>\n",
        "      <td> 11-2021.00</td>\n",
        "      <td> 1.B.1.e</td>\n",
        "      <td>  Enterprising</td>\n",
        "      <td> OI</td>\n",
        "      <td> 7.00</td>\n",
        "      <td> 06/2008</td>\n",
        "      <td> Analyst</td>\n",
        "    </tr>\n",
        "    <tr>\n",
        "      <th>59</th>\n",
        "      <td> 11-2021.00</td>\n",
        "      <td> 1.B.1.f</td>\n",
        "      <td>  Conventional</td>\n",
        "      <td> OI</td>\n",
        "      <td> 5.33</td>\n",
        "      <td> 06/2008</td>\n",
        "      <td> Analyst</td>\n",
        "    </tr>\n",
        "    <tr>\n",
        "      <th>63</th>\n",
        "      <td> 11-2022.00</td>\n",
        "      <td> 1.B.1.a</td>\n",
        "      <td>     Realistic</td>\n",
        "      <td> OI</td>\n",
        "      <td> 3.00</td>\n",
        "      <td> 06/2008</td>\n",
        "      <td> Analyst</td>\n",
        "    </tr>\n",
        "    <tr>\n",
        "      <th>64</th>\n",
        "      <td> 11-2022.00</td>\n",
        "      <td> 1.B.1.b</td>\n",
        "      <td> Investigative</td>\n",
        "      <td> OI</td>\n",
        "      <td> 2.00</td>\n",
        "      <td> 06/2008</td>\n",
        "      <td> Analyst</td>\n",
        "    </tr>\n",
        "    <tr>\n",
        "      <th>65</th>\n",
        "      <td> 11-2022.00</td>\n",
        "      <td> 1.B.1.c</td>\n",
        "      <td>      Artistic</td>\n",
        "      <td> OI</td>\n",
        "      <td> 2.00</td>\n",
        "      <td> 06/2008</td>\n",
        "      <td> Analyst</td>\n",
        "    </tr>\n",
        "    <tr>\n",
        "      <th>66</th>\n",
        "      <td> 11-2022.00</td>\n",
        "      <td> 1.B.1.d</td>\n",
        "      <td>        Social</td>\n",
        "      <td> OI</td>\n",
        "      <td> 3.67</td>\n",
        "      <td> 06/2008</td>\n",
        "      <td> Analyst</td>\n",
        "    </tr>\n",
        "    <tr>\n",
        "      <th>67</th>\n",
        "      <td> 11-2022.00</td>\n",
        "      <td> 1.B.1.e</td>\n",
        "      <td>  Enterprising</td>\n",
        "      <td> OI</td>\n",
        "      <td> 7.00</td>\n",
        "      <td> 06/2008</td>\n",
        "      <td> Analyst</td>\n",
        "    </tr>\n",
        "    <tr>\n",
        "      <th>68</th>\n",
        "      <td> 11-2022.00</td>\n",
        "      <td> 1.B.1.f</td>\n",
        "      <td>  Conventional</td>\n",
        "      <td> OI</td>\n",
        "      <td> 4.67</td>\n",
        "      <td> 06/2008</td>\n",
        "      <td> Analyst</td>\n",
        "    </tr>\n",
        "    <tr>\n",
        "      <th>72</th>\n",
        "      <td> 11-2031.00</td>\n",
        "      <td> 1.B.1.a</td>\n",
        "      <td>     Realistic</td>\n",
        "      <td> OI</td>\n",
        "      <td> 1.33</td>\n",
        "      <td> 06/2008</td>\n",
        "      <td> Analyst</td>\n",
        "    </tr>\n",
        "    <tr>\n",
        "      <th>73</th>\n",
        "      <td> 11-2031.00</td>\n",
        "      <td> 1.B.1.b</td>\n",
        "      <td> Investigative</td>\n",
        "      <td> OI</td>\n",
        "      <td> 1.33</td>\n",
        "      <td> 06/2008</td>\n",
        "      <td> Analyst</td>\n",
        "    </tr>\n",
        "    <tr>\n",
        "      <th>74</th>\n",
        "      <td> 11-2031.00</td>\n",
        "      <td> 1.B.1.c</td>\n",
        "      <td>      Artistic</td>\n",
        "      <td> OI</td>\n",
        "      <td> 5.00</td>\n",
        "      <td> 06/2008</td>\n",
        "      <td> Analyst</td>\n",
        "    </tr>\n",
        "    <tr>\n",
        "      <th>75</th>\n",
        "      <td> 11-2031.00</td>\n",
        "      <td> 1.B.1.d</td>\n",
        "      <td>        Social</td>\n",
        "      <td> OI</td>\n",
        "      <td> 3.67</td>\n",
        "      <td> 06/2008</td>\n",
        "      <td> Analyst</td>\n",
        "    </tr>\n",
        "    <tr>\n",
        "      <th>76</th>\n",
        "      <td> 11-2031.00</td>\n",
        "      <td> 1.B.1.e</td>\n",
        "      <td>  Enterprising</td>\n",
        "      <td> OI</td>\n",
        "      <td> 7.00</td>\n",
        "      <td> 06/2008</td>\n",
        "      <td> Analyst</td>\n",
        "    </tr>\n",
        "    <tr>\n",
        "      <th>77</th>\n",
        "      <td> 11-2031.00</td>\n",
        "      <td> 1.B.1.f</td>\n",
        "      <td>  Conventional</td>\n",
        "      <td> OI</td>\n",
        "      <td> 3.67</td>\n",
        "      <td> 06/2008</td>\n",
        "      <td> Analyst</td>\n",
        "    </tr>\n",
        "    <tr>\n",
        "      <th>81</th>\n",
        "      <td> 11-3011.00</td>\n",
        "      <td> 1.B.1.a</td>\n",
        "      <td>     Realistic</td>\n",
        "      <td> OI</td>\n",
        "      <td> 2.00</td>\n",
        "      <td> 06/2008</td>\n",
        "      <td> Analyst</td>\n",
        "    </tr>\n",
        "    <tr>\n",
        "      <th>82</th>\n",
        "      <td> 11-3011.00</td>\n",
        "      <td> 1.B.1.b</td>\n",
        "      <td> Investigative</td>\n",
        "      <td> OI</td>\n",
        "      <td> 2.33</td>\n",
        "      <td> 06/2008</td>\n",
        "      <td> Analyst</td>\n",
        "    </tr>\n",
        "    <tr>\n",
        "      <th>83</th>\n",
        "      <td> 11-3011.00</td>\n",
        "      <td> 1.B.1.c</td>\n",
        "      <td>      Artistic</td>\n",
        "      <td> OI</td>\n",
        "      <td> 1.00</td>\n",
        "      <td> 06/2008</td>\n",
        "      <td> Analyst</td>\n",
        "    </tr>\n",
        "    <tr>\n",
        "      <th>84</th>\n",
        "      <td> 11-3011.00</td>\n",
        "      <td> 1.B.1.d</td>\n",
        "      <td>        Social</td>\n",
        "      <td> OI</td>\n",
        "      <td> 2.67</td>\n",
        "      <td> 06/2008</td>\n",
        "      <td> Analyst</td>\n",
        "    </tr>\n",
        "    <tr>\n",
        "      <th>85</th>\n",
        "      <td> 11-3011.00</td>\n",
        "      <td> 1.B.1.e</td>\n",
        "      <td>  Enterprising</td>\n",
        "      <td> OI</td>\n",
        "      <td> 7.00</td>\n",
        "      <td> 06/2008</td>\n",
        "      <td> Analyst</td>\n",
        "    </tr>\n",
        "    <tr>\n",
        "      <th>86</th>\n",
        "      <td> 11-3011.00</td>\n",
        "      <td> 1.B.1.f</td>\n",
        "      <td>  Conventional</td>\n",
        "      <td> OI</td>\n",
        "      <td> 5.33</td>\n",
        "      <td> 06/2008</td>\n",
        "      <td> Analyst</td>\n",
        "    </tr>\n",
        "    <tr>\n",
        "      <th></th>\n",
        "      <td>...</td>\n",
        "      <td>...</td>\n",
        "      <td>...</td>\n",
        "      <td>...</td>\n",
        "      <td>...</td>\n",
        "      <td>...</td>\n",
        "      <td>...</td>\n",
        "    </tr>\n",
        "  </tbody>\n",
        "</table>\n",
        "<p>5844 rows \u00d7 7 columns</p>\n",
        "</div>"
       ],
       "metadata": {},
       "output_type": "pyout",
       "prompt_number": 48,
       "text": [
        "   onet_soc_code element_id   element_name scale_id  data_value     date  \\\n",
        "0     11-1011.00    1.B.1.a      Realistic       OI        1.33  06/2008   \n",
        "1     11-1011.00    1.B.1.b  Investigative       OI        2.00  06/2008   \n",
        "2     11-1011.00    1.B.1.c       Artistic       OI        2.67  06/2008   \n",
        "3     11-1011.00    1.B.1.d         Social       OI        3.67  06/2008   \n",
        "4     11-1011.00    1.B.1.e   Enterprising       OI        7.00  06/2008   \n",
        "5     11-1011.00    1.B.1.f   Conventional       OI        5.33  06/2008   \n",
        "9     11-1011.03    1.B.1.a      Realistic       OI        1.00  07/2013   \n",
        "10    11-1011.03    1.B.1.b  Investigative       OI        4.33  07/2013   \n",
        "11    11-1011.03    1.B.1.c       Artistic       OI        2.67  07/2013   \n",
        "12    11-1011.03    1.B.1.d         Social       OI        2.33  07/2013   \n",
        "13    11-1011.03    1.B.1.e   Enterprising       OI        7.00  07/2013   \n",
        "14    11-1011.03    1.B.1.f   Conventional       OI        4.33  07/2013   \n",
        "18    11-1021.00    1.B.1.a      Realistic       OI        1.33  06/2008   \n",
        "19    11-1021.00    1.B.1.b  Investigative       OI        1.33  06/2008   \n",
        "20    11-1021.00    1.B.1.c       Artistic       OI        1.00  06/2008   \n",
        "21    11-1021.00    1.B.1.d         Social       OI        3.33  06/2008   \n",
        "22    11-1021.00    1.B.1.e   Enterprising       OI        7.00  06/2008   \n",
        "23    11-1021.00    1.B.1.f   Conventional       OI        3.67  06/2008   \n",
        "27    11-1031.00    1.B.1.a      Realistic       OI        1.00  06/2008   \n",
        "28    11-1031.00    1.B.1.b  Investigative       OI        3.67  06/2008   \n",
        "29    11-1031.00    1.B.1.c       Artistic       OI        3.67  06/2008   \n",
        "30    11-1031.00    1.B.1.d         Social       OI        4.67  06/2008   \n",
        "31    11-1031.00    1.B.1.e   Enterprising       OI        7.00  06/2008   \n",
        "32    11-1031.00    1.B.1.f   Conventional       OI        3.00  06/2008   \n",
        "36    11-2011.00    1.B.1.a      Realistic       OI        1.67  06/2008   \n",
        "37    11-2011.00    1.B.1.b  Investigative       OI        2.00  06/2008   \n",
        "38    11-2011.00    1.B.1.c       Artistic       OI        5.33  06/2008   \n",
        "39    11-2011.00    1.B.1.d         Social       OI        2.33  06/2008   \n",
        "40    11-2011.00    1.B.1.e   Enterprising       OI        7.00  06/2008   \n",
        "41    11-2011.00    1.B.1.f   Conventional       OI        4.67  06/2008   \n",
        "45    11-2011.01    1.B.1.a      Realistic       OI        1.00  07/2013   \n",
        "46    11-2011.01    1.B.1.b  Investigative       OI        5.33  07/2013   \n",
        "47    11-2011.01    1.B.1.c       Artistic       OI        4.33  07/2013   \n",
        "48    11-2011.01    1.B.1.d         Social       OI        2.33  07/2013   \n",
        "49    11-2011.01    1.B.1.e   Enterprising       OI        5.33  07/2013   \n",
        "50    11-2011.01    1.B.1.f   Conventional       OI        3.00  07/2013   \n",
        "54    11-2021.00    1.B.1.a      Realistic       OI        1.00  06/2008   \n",
        "55    11-2021.00    1.B.1.b  Investigative       OI        2.33  06/2008   \n",
        "56    11-2021.00    1.B.1.c       Artistic       OI        3.67  06/2008   \n",
        "57    11-2021.00    1.B.1.d         Social       OI        2.67  06/2008   \n",
        "58    11-2021.00    1.B.1.e   Enterprising       OI        7.00  06/2008   \n",
        "59    11-2021.00    1.B.1.f   Conventional       OI        5.33  06/2008   \n",
        "63    11-2022.00    1.B.1.a      Realistic       OI        3.00  06/2008   \n",
        "64    11-2022.00    1.B.1.b  Investigative       OI        2.00  06/2008   \n",
        "65    11-2022.00    1.B.1.c       Artistic       OI        2.00  06/2008   \n",
        "66    11-2022.00    1.B.1.d         Social       OI        3.67  06/2008   \n",
        "67    11-2022.00    1.B.1.e   Enterprising       OI        7.00  06/2008   \n",
        "68    11-2022.00    1.B.1.f   Conventional       OI        4.67  06/2008   \n",
        "72    11-2031.00    1.B.1.a      Realistic       OI        1.33  06/2008   \n",
        "73    11-2031.00    1.B.1.b  Investigative       OI        1.33  06/2008   \n",
        "74    11-2031.00    1.B.1.c       Artistic       OI        5.00  06/2008   \n",
        "75    11-2031.00    1.B.1.d         Social       OI        3.67  06/2008   \n",
        "76    11-2031.00    1.B.1.e   Enterprising       OI        7.00  06/2008   \n",
        "77    11-2031.00    1.B.1.f   Conventional       OI        3.67  06/2008   \n",
        "81    11-3011.00    1.B.1.a      Realistic       OI        2.00  06/2008   \n",
        "82    11-3011.00    1.B.1.b  Investigative       OI        2.33  06/2008   \n",
        "83    11-3011.00    1.B.1.c       Artistic       OI        1.00  06/2008   \n",
        "84    11-3011.00    1.B.1.d         Social       OI        2.67  06/2008   \n",
        "85    11-3011.00    1.B.1.e   Enterprising       OI        7.00  06/2008   \n",
        "86    11-3011.00    1.B.1.f   Conventional       OI        5.33  06/2008   \n",
        "             ...        ...            ...      ...         ...      ...   \n",
        "\n",
        "   domain_source  \n",
        "0        Analyst  \n",
        "1        Analyst  \n",
        "2        Analyst  \n",
        "3        Analyst  \n",
        "4        Analyst  \n",
        "5        Analyst  \n",
        "9        Analyst  \n",
        "10       Analyst  \n",
        "11       Analyst  \n",
        "12       Analyst  \n",
        "13       Analyst  \n",
        "14       Analyst  \n",
        "18       Analyst  \n",
        "19       Analyst  \n",
        "20       Analyst  \n",
        "21       Analyst  \n",
        "22       Analyst  \n",
        "23       Analyst  \n",
        "27       Analyst  \n",
        "28       Analyst  \n",
        "29       Analyst  \n",
        "30       Analyst  \n",
        "31       Analyst  \n",
        "32       Analyst  \n",
        "36       Analyst  \n",
        "37       Analyst  \n",
        "38       Analyst  \n",
        "39       Analyst  \n",
        "40       Analyst  \n",
        "41       Analyst  \n",
        "45       Analyst  \n",
        "46       Analyst  \n",
        "47       Analyst  \n",
        "48       Analyst  \n",
        "49       Analyst  \n",
        "50       Analyst  \n",
        "54       Analyst  \n",
        "55       Analyst  \n",
        "56       Analyst  \n",
        "57       Analyst  \n",
        "58       Analyst  \n",
        "59       Analyst  \n",
        "63       Analyst  \n",
        "64       Analyst  \n",
        "65       Analyst  \n",
        "66       Analyst  \n",
        "67       Analyst  \n",
        "68       Analyst  \n",
        "72       Analyst  \n",
        "73       Analyst  \n",
        "74       Analyst  \n",
        "75       Analyst  \n",
        "76       Analyst  \n",
        "77       Analyst  \n",
        "81       Analyst  \n",
        "82       Analyst  \n",
        "83       Analyst  \n",
        "84       Analyst  \n",
        "85       Analyst  \n",
        "86       Analyst  \n",
        "             ...  \n",
        "\n",
        "[5844 rows x 7 columns]"
       ]
      }
     ],
     "prompt_number": 48
    },
    {
     "cell_type": "heading",
     "level": 2,
     "metadata": {},
     "source": [
      "Job Zones"
     ]
    },
    {
     "cell_type": "code",
     "collapsed": false,
     "input": [
      "#we do not need to do anything to job_zones\n",
      "job_zones_final = job_zones"
     ],
     "language": "python",
     "metadata": {},
     "outputs": [],
     "prompt_number": 20
    },
    {
     "cell_type": "code",
     "collapsed": false,
     "input": [
      "len(job_zones_final)"
     ],
     "language": "python",
     "metadata": {},
     "outputs": [
      {
       "metadata": {},
       "output_type": "pyout",
       "prompt_number": 21,
       "text": [
        "924"
       ]
      }
     ],
     "prompt_number": 21
    },
    {
     "cell_type": "code",
     "collapsed": false,
     "input": [
      "feature(job_zones_final)"
     ],
     "language": "python",
     "metadata": {},
     "outputs": [
      {
       "metadata": {},
       "output_type": "pyout",
       "prompt_number": 22,
       "text": [
        "1"
       ]
      }
     ],
     "prompt_number": 22
    },
    {
     "cell_type": "heading",
     "level": 2,
     "metadata": {},
     "source": [
      "Skills"
     ]
    },
    {
     "cell_type": "code",
     "collapsed": false,
     "input": [
      "#for skills, we only want to keep rows where scale_id == \"IM\"\n",
      "skills_final = skills[skills.scale_id == 'IM']"
     ],
     "language": "python",
     "metadata": {},
     "outputs": [],
     "prompt_number": 23
    },
    {
     "cell_type": "code",
     "collapsed": false,
     "input": [
      "len(skills_final)"
     ],
     "language": "python",
     "metadata": {},
     "outputs": [
      {
       "metadata": {},
       "output_type": "pyout",
       "prompt_number": 24,
       "text": [
        "32305"
       ]
      }
     ],
     "prompt_number": 24
    },
    {
     "cell_type": "code",
     "collapsed": false,
     "input": [
      "feature(skills_final)"
     ],
     "language": "python",
     "metadata": {},
     "outputs": [
      {
       "metadata": {},
       "output_type": "pyout",
       "prompt_number": 25,
       "text": [
        "35"
       ]
      }
     ],
     "prompt_number": 25
    },
    {
     "cell_type": "heading",
     "level": 2,
     "metadata": {},
     "source": [
      "Work Activities"
     ]
    },
    {
     "cell_type": "code",
     "collapsed": false,
     "input": [
      "#for work activities, we only want to keep rows where scale_id == 'IM'\n",
      "work_activities_final = work_activities[work_activities.scale_id == 'IM']"
     ],
     "language": "python",
     "metadata": {},
     "outputs": [],
     "prompt_number": 26
    },
    {
     "cell_type": "code",
     "collapsed": false,
     "input": [
      "len(work_activities_final)"
     ],
     "language": "python",
     "metadata": {},
     "outputs": [
      {
       "metadata": {},
       "output_type": "pyout",
       "prompt_number": 27,
       "text": [
        "37843"
       ]
      }
     ],
     "prompt_number": 27
    },
    {
     "cell_type": "code",
     "collapsed": false,
     "input": [
      "feature(work_activities_final)"
     ],
     "language": "python",
     "metadata": {},
     "outputs": [
      {
       "metadata": {},
       "output_type": "pyout",
       "prompt_number": 28,
       "text": [
        "41"
       ]
      }
     ],
     "prompt_number": 28
    },
    {
     "cell_type": "heading",
     "level": 2,
     "metadata": {},
     "source": [
      "Work Context "
     ]
    },
    {
     "cell_type": "code",
     "collapsed": false,
     "input": [
      "#in work context, we only want to keep rows where scale_id == 'CX' or 'CT'\n",
      "work_context_final = work_context[(work_context['scale_id'] == 'CX') | (work_context['scale_id'] == 'CT')]"
     ],
     "language": "python",
     "metadata": {},
     "outputs": [],
     "prompt_number": 34
    },
    {
     "cell_type": "code",
     "collapsed": false,
     "input": [
      "len(work_context_final)"
     ],
     "language": "python",
     "metadata": {},
     "outputs": [
      {
       "metadata": {},
       "output_type": "pyout",
       "prompt_number": 37,
       "text": [
        "52592"
       ]
      }
     ],
     "prompt_number": 37
    },
    {
     "cell_type": "code",
     "collapsed": false,
     "input": [
      "feature(work_context_final)"
     ],
     "language": "python",
     "metadata": {},
     "outputs": [
      {
       "metadata": {},
       "output_type": "pyout",
       "prompt_number": 38,
       "text": [
        "56"
       ]
      }
     ],
     "prompt_number": 38
    },
    {
     "cell_type": "heading",
     "level": 2,
     "metadata": {},
     "source": [
      "Work Styles"
     ]
    },
    {
     "cell_type": "code",
     "collapsed": false,
     "input": [
      "#in work styles, we can keep everythin\n",
      "work_styles_final = work_styles"
     ],
     "language": "python",
     "metadata": {},
     "outputs": [],
     "prompt_number": 39
    },
    {
     "cell_type": "code",
     "collapsed": false,
     "input": [
      "len(work_styles_final)"
     ],
     "language": "python",
     "metadata": {},
     "outputs": [
      {
       "metadata": {},
       "output_type": "pyout",
       "prompt_number": 40,
       "text": [
        "14752"
       ]
      }
     ],
     "prompt_number": 40
    },
    {
     "cell_type": "code",
     "collapsed": false,
     "input": [
      "feature(work_styles_final)"
     ],
     "language": "python",
     "metadata": {},
     "outputs": [
      {
       "metadata": {},
       "output_type": "pyout",
       "prompt_number": 41,
       "text": [
        "16"
       ]
      }
     ],
     "prompt_number": 41
    },
    {
     "cell_type": "heading",
     "level": 2,
     "metadata": {},
     "source": [
      "Work Values"
     ]
    },
    {
     "cell_type": "code",
     "collapsed": false,
     "input": [
      "#in work values, we want to only keep rows where scale_id == 'EX'\n",
      "work_values_final = work_values[work_values.scale_id == 'EX']"
     ],
     "language": "python",
     "metadata": {},
     "outputs": [],
     "prompt_number": 45
    },
    {
     "cell_type": "code",
     "collapsed": false,
     "input": [
      "len(work_values_final)"
     ],
     "language": "python",
     "metadata": {},
     "outputs": [
      {
       "metadata": {},
       "output_type": "pyout",
       "prompt_number": 46,
       "text": [
        "5844"
       ]
      }
     ],
     "prompt_number": 46
    },
    {
     "cell_type": "code",
     "collapsed": false,
     "input": [
      "feature(work_values_final)"
     ],
     "language": "python",
     "metadata": {},
     "outputs": [
      {
       "metadata": {},
       "output_type": "pyout",
       "prompt_number": 47,
       "text": [
        "6"
       ]
      }
     ],
     "prompt_number": 47
    }
   ],
   "metadata": {}
  }
 ]
}